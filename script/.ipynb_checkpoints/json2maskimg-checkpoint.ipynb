{
 "cells": [
  {
   "cell_type": "code",
   "execution_count": 5,
   "id": "bd261531",
   "metadata": {},
   "outputs": [],
   "source": [
    "from PIL import Image, ImageDraw\n",
    "import matplotlib.pyplot as plt\n",
    "import matplotlib.patches as pat\n",
    "import json"
   ]
  },
  {
   "cell_type": "code",
   "execution_count": 6,
   "id": "05b755a0",
   "metadata": {},
   "outputs": [],
   "source": [
    "path = \"valid_moon.json\""
   ]
  },
  {
   "cell_type": "code",
   "execution_count": 7,
   "id": "ca4e6d91",
   "metadata": {},
   "outputs": [
    {
     "name": "stdout",
     "output_type": "stream",
     "text": [
      "image_number 1\n",
      "change image\n",
      "[[(358.0, 66.0), (358.0, 63.0), (350.0, 64.0), (358.0, 66.0)], [(262.0, 66.0), (262.0, 64.0), (259.0, 65.0), (262.0, 66.0)], [(432.0, 68.0), (432.0, 66.0), (416.0, 67.0), (432.0, 68.0)], [(195.0, 70.0), (195.0, 67.0), (170.0, 68.0), (174.0, 70.0), (195.0, 70.0)], [(438.0, 69.0), (438.0, 67.0), (434.0, 68.0), (438.0, 69.0)], [(423.0, 76.0), (429.0, 72.0), (405.0, 72.0), (415.0, 76.0), (423.0, 76.0)], [(134.0, 76.0), (134.0, 74.0), (132.0, 75.0), (134.0, 76.0)], [(157.0, 77.0), (157.0, 75.0), (150.0, 76.0), (157.0, 77.0)], [(162.0, 77.0), (162.0, 75.0), (159.0, 76.0), (162.0, 77.0)], [(30.0, 92.0), (30.0, 90.0), (28.0, 91.0), (30.0, 92.0)], [(108.0, 92.0), (108.0, 90.0), (106.0, 91.0), (108.0, 92.0)], [(302.0, 116.0), (308.0, 114.0), (287.0, 111.0), (286.0, 113.0), (282.0, 114.0), (302.0, 116.0)], [(439.0, 211.0), (441.0, 209.0), (436.0, 205.0), (436.0, 203.0), (429.0, 203.0), (428.0, 201.0), (422.0, 201.0), (420.0, 199.0), (397.0, 197.0), (396.0, 198.0), (398.0, 199.0), (384.0, 201.0), (393.0, 206.0), (413.0, 207.0), (439.0, 211.0)], [(549.0, 329.0), (549.0, 239.0), (546.0, 239.0), (545.0, 237.0), (533.0, 236.0), (531.0, 234.0), (524.0, 234.0), (523.0, 232.0), (516.0, 232.0), (515.0, 230.0), (508.0, 230.0), (507.0, 228.0), (500.0, 228.0), (499.0, 226.0), (486.0, 226.0), (488.0, 225.0), (487.0, 224.0), (448.0, 223.0), (441.0, 223.0), (440.0, 225.0), (417.0, 224.0), (413.0, 228.0), (397.0, 226.0), (396.0, 227.0), (400.0, 232.0), (399.0, 234.0), (395.0, 234.0), (393.0, 237.0), (375.0, 238.0), (380.0, 245.0), (376.0, 248.0), (384.0, 265.0), (425.0, 296.0), (461.0, 311.0), (497.0, 321.0), (549.0, 329.0)]]\n",
      "[(361.0, 210.0), (361.0, 208.0), (355.0, 209.0), (361.0, 210.0)]\n"
     ]
    }
   ],
   "source": [
    "with open(path) as f:\n",
    "    fj = json.load(f)\n",
    "\n",
    "old_image_id = 0\n",
    "polys = []\n",
    "for annotation_id in range (len(fj[\"annotations\"])):\n",
    "    poly = []\n",
    "    tmp = 0\n",
    "    # forで回す数をsegmentationの長さの1/2にする\n",
    "    range_num = int(len(fj[\"annotations\"][annotation_id][\"segmentation\"][0]) / 2)\n",
    "\n",
    "    for j in range(range_num):\n",
    "        xy = (fj[\"annotations\"][annotation_id][\"segmentation\"][0][tmp], fj[\"annotations\"][annotation_id][\"segmentation\"][0][tmp+1])\n",
    "        poly.append(xy)\n",
    "        tmp += 2\n",
    "    polys.append(poly)\n",
    "    \n",
    "    current_image_id = fj[\"annotations\"][annotation_id][\"image_id\"]\n",
    "#     print(current_image_id)\n",
    "    \n",
    "    if old_image_id != current_image_id:\n",
    "        old_image_id = current_image_id\n",
    "        print(\"image_number\", old_image_id)\n",
    "        print(\"change image\")\n",
    "        del polys[-1]\n",
    "        break\n",
    "    \n",
    "print(polys)\n",
    "print(poly)"
   ]
  },
  {
   "cell_type": "code",
   "execution_count": 22,
   "id": "3e060fd8",
   "metadata": {},
   "outputs": [
    {
     "data": {
      "image/png": "[encoded data removed]",
      "text/plain": [
       "<Figure size 432x288 with 1 Axes>"
      ]
     },
     "metadata": {
      "needs_background": "light"
     },
     "output_type": "display_data"
    },
    {
     "name": "stdout",
     "output_type": "stream",
     "text": [
      "(432.0, 68.0)\n"
     ]
    }
   ],
   "source": [
    "im = Image.new('RGB', (550, 550), (0, 0, 0))\n",
    "plt.imshow(im)\n",
    "plt.show()\n",
    "draw = ImageDraw.Draw(im)\n",
    "print(polys[2])\n",
    "draw.polygon(polys[2], fill=(255, 255, 0), outline=(255, 255, 255))"
   ]
  },
  {
   "cell_type": "code",
   "execution_count": null,
   "id": "ac73e4f9",
   "metadata": {},
   "outputs": [],
   "source": []
  },
  {
   "cell_type": "code",
   "execution_count": null,
   "id": "12cdf154",
   "metadata": {},
   "outputs": [],
   "source": [
    "# Figureを作成\n",
    "fig = plt.figure(figsize=(550, 550))\n",
    "\n",
    "# FigureにAxes(サブプロット)を追加\n",
    "ax = fig.add_subplot(111)\n",
    "\n",
    "# 4つの頂点を指定してひし形を描画\n",
    "# 塗り潰しはライム、縁の色はブラック\n",
    "# p = pat.Polygon(xy = [(0.2, 0.5), (0.5, 0.1), (0.8, 0.5), (0.5, 0.9)],\n",
    "# fc = \"lime\", ec = \"black\")\n",
    "\n",
    "p = pat.Polygon(xy = poly,\n",
    "fc = \"lime\", ec = \"black\")\n",
    "\n",
    "# Axesに多角形を追加\n",
    "ax.add_patch(p)"
   ]
  }
 ],
 "metadata": {
  "kernelspec": {
   "display_name": "Python 3 (ipykernel)",
   "language": "python",
   "name": "python3"
  },
  "language_info": {
   "codemirror_mode": {
    "name": "ipython",
    "version": 3
   },
   "file_extension": ".py",
   "mimetype": "text/x-python",
   "name": "python",
   "nbconvert_exporter": "python",
   "pygments_lexer": "ipython3",
   "version": "3.7.10"
  }
 },
 "nbformat": 4,
 "nbformat_minor": 5
}
