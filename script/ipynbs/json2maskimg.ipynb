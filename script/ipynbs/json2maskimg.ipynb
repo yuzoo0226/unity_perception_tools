{
 "cells": [
  {
   "cell_type": "code",
   "execution_count": 5,
   "id": "bd261531",
   "metadata": {},
   "outputs": [],
   "source": [
    "from PIL import Image, ImageDraw\n",
    "import matplotlib.pyplot as plt\n",
    "import matplotlib.patches as pat\n",
    "import json"
   ]
  },
  {
   "cell_type": "code",
   "execution_count": 16,
   "id": "05b755a0",
   "metadata": {},
   "outputs": [],
   "source": [
    "base_path = \"/home/yuga/.config/unity3d/DefaultCompany/PerceptionURP/tests/ZED_720p/\"\n",
    "path = base_path + \"train_moon.json\""
   ]
  },
  {
   "cell_type": "code",
   "execution_count": 17,
   "id": "ca4e6d91",
   "metadata": {},
   "outputs": [
    {
     "name": "stdout",
     "output_type": "stream",
     "text": [
      "[(956.0, 206.0)]\n",
      "[(956.0, 206.0), (978.0, 205.0)]\n",
      "[(956.0, 206.0), (978.0, 205.0), (991.0, 199.0)]\n",
      "[(956.0, 206.0), (978.0, 205.0), (991.0, 199.0), (959.0, 196.0)]\n",
      "[(956.0, 206.0), (978.0, 205.0), (991.0, 199.0), (959.0, 196.0), (916.0, 196.0)]\n",
      "[(956.0, 206.0), (978.0, 205.0), (991.0, 199.0), (959.0, 196.0), (916.0, 196.0), (888.0, 197.0)]\n",
      "[(956.0, 206.0), (978.0, 205.0), (991.0, 199.0), (959.0, 196.0), (916.0, 196.0), (888.0, 197.0), (883.0, 200.0)]\n",
      "[(956.0, 206.0), (978.0, 205.0), (991.0, 199.0), (959.0, 196.0), (916.0, 196.0), (888.0, 197.0), (883.0, 200.0), (889.0, 202.0)]\n",
      "[(956.0, 206.0), (978.0, 205.0), (991.0, 199.0), (959.0, 196.0), (916.0, 196.0), (888.0, 197.0), (883.0, 200.0), (889.0, 202.0), (956.0, 206.0)]\n",
      "[(1123.0, 276.0)]\n",
      "[(1123.0, 276.0), (1123.0, 274.0)]\n",
      "[(1123.0, 276.0), (1123.0, 274.0), (1092.0, 270.0)]\n",
      "[(1123.0, 276.0), (1123.0, 274.0), (1092.0, 270.0), (1068.0, 271.0)]\n",
      "[(1123.0, 276.0), (1123.0, 274.0), (1092.0, 270.0), (1068.0, 271.0), (1123.0, 276.0)]\n",
      "[(950.0, 298.0)]\n",
      "[(950.0, 298.0), (979.0, 295.0)]\n",
      "[(950.0, 298.0), (979.0, 295.0), (982.0, 293.0)]\n",
      "[(950.0, 298.0), (979.0, 295.0), (982.0, 293.0), (947.0, 286.0)]\n",
      "[(950.0, 298.0), (979.0, 295.0), (982.0, 293.0), (947.0, 286.0), (930.0, 286.0)]\n",
      "[(950.0, 298.0), (979.0, 295.0), (982.0, 293.0), (947.0, 286.0), (930.0, 286.0), (893.0, 281.0)]\n",
      "[(950.0, 298.0), (979.0, 295.0), (982.0, 293.0), (947.0, 286.0), (930.0, 286.0), (893.0, 281.0), (856.0, 281.0)]\n",
      "[(950.0, 298.0), (979.0, 295.0), (982.0, 293.0), (947.0, 286.0), (930.0, 286.0), (893.0, 281.0), (856.0, 281.0), (832.0, 279.0)]\n",
      "[(950.0, 298.0), (979.0, 295.0), (982.0, 293.0), (947.0, 286.0), (930.0, 286.0), (893.0, 281.0), (856.0, 281.0), (832.0, 279.0), (785.0, 281.0)]\n",
      "[(950.0, 298.0), (979.0, 295.0), (982.0, 293.0), (947.0, 286.0), (930.0, 286.0), (893.0, 281.0), (856.0, 281.0), (832.0, 279.0), (785.0, 281.0), (786.0, 283.0)]\n",
      "[(950.0, 298.0), (979.0, 295.0), (982.0, 293.0), (947.0, 286.0), (930.0, 286.0), (893.0, 281.0), (856.0, 281.0), (832.0, 279.0), (785.0, 281.0), (786.0, 283.0), (852.0, 294.0)]\n",
      "[(950.0, 298.0), (979.0, 295.0), (982.0, 293.0), (947.0, 286.0), (930.0, 286.0), (893.0, 281.0), (856.0, 281.0), (832.0, 279.0), (785.0, 281.0), (786.0, 283.0), (852.0, 294.0), (898.0, 291.0)]\n",
      "[(950.0, 298.0), (979.0, 295.0), (982.0, 293.0), (947.0, 286.0), (930.0, 286.0), (893.0, 281.0), (856.0, 281.0), (832.0, 279.0), (785.0, 281.0), (786.0, 283.0), (852.0, 294.0), (898.0, 291.0), (939.0, 298.0)]\n",
      "[(950.0, 298.0), (979.0, 295.0), (982.0, 293.0), (947.0, 286.0), (930.0, 286.0), (893.0, 281.0), (856.0, 281.0), (832.0, 279.0), (785.0, 281.0), (786.0, 283.0), (852.0, 294.0), (898.0, 291.0), (939.0, 298.0), (950.0, 298.0)]\n",
      "rgb_10.png\n",
      "change image\n"
     ]
    }
   ],
   "source": [
    "with open(path) as f:\n",
    "    fj = json.load(f)\n",
    "\n",
    "old_image_id = 0\n",
    "polys = []\n",
    "for annotation_id in range (len(fj[\"annotations\"])):\n",
    "    current_image_id = fj[\"annotations\"][annotation_id][\"image_id\"]\n",
    "    poly = []\n",
    "    tmp = 0\n",
    "    # forで回す数をsegmentationの長さの1/2にする\n",
    "    range_num = int(len(fj[\"annotations\"][annotation_id][\"segmentation\"][0]) / 2)\n",
    "\n",
    "    for j in range(range_num):\n",
    "        xy = (fj[\"annotations\"][annotation_id][\"segmentation\"][0][tmp], fj[\"annotations\"][annotation_id][\"segmentation\"][0][tmp+1])\n",
    "        poly.append(xy)\n",
    "        tmp += 2\n",
    "#     print(len(poly))\n",
    "    \n",
    "#     if len(poly) > 4:\n",
    "    polys.append(poly)\n",
    "\n",
    "    if old_image_id != current_image_id:\n",
    "        old_image_id = current_image_id\n",
    "#         print(\"image_number\", old_image_id)\n",
    "        print(fj[\"images\"][0][\"file_name\"])\n",
    "        print(\"change image\")\n",
    "        del polys[-1]\n",
    "        annotation_id -= 1\n",
    "        break\n",
    "    \n",
    "# print(polys)"
   ]
  },
  {
   "cell_type": "code",
   "execution_count": 18,
   "id": "3e060fd8",
   "metadata": {},
   "outputs": [
    {
     "data": {
      "image/png": "[encoded data removed]",
      "text/plain": [
       "<Figure size 432x288 with 1 Axes>"
      ]
     },
     "metadata": {
      "needs_background": "light"
     },
     "output_type": "display_data"
    }
   ],
   "source": [
    "im = Image.new('RGB', (1280, 720), (0, 0, 0))\n",
    "draw = ImageDraw.Draw(im)\n",
    "for i in range(len(polys)):\n",
    "    draw.polygon(polys[i], fill=(255, 255, 0), outline=(255, 255, 255))\n",
    "plt.imshow(im)\n",
    "plt.show()\n",
    "im.save(\"test.png\")"
   ]
  },
  {
   "cell_type": "code",
   "execution_count": null,
   "id": "ac73e4f9",
   "metadata": {},
   "outputs": [],
   "source": []
  },
  {
   "cell_type": "code",
   "execution_count": null,
   "id": "12cdf154",
   "metadata": {},
   "outputs": [],
   "source": [
    "# Figureを作成\n",
    "fig = plt.figure(figsize=(550, 550))\n",
    "\n",
    "# FigureにAxes(サブプロット)を追加\n",
    "ax = fig.add_subplot(111)\n",
    "\n",
    "# 4つの頂点を指定してひし形を描画\n",
    "# 塗り潰しはライム、縁の色はブラック\n",
    "# p = pat.Polygon(xy = [(0.2, 0.5), (0.5, 0.1), (0.8, 0.5), (0.5, 0.9)],\n",
    "# fc = \"lime\", ec = \"black\")\n",
    "\n",
    "p = pat.Polygon(xy = poly,\n",
    "fc = \"lime\", ec = \"black\")\n",
    "\n",
    "# Axesに多角形を追加\n",
    "ax.add_patch(p)"
   ]
  }
 ],
 "metadata": {
  "kernelspec": {
   "display_name": "Python 3 (ipykernel)",
   "language": "python",
   "name": "python3"
  },
  "language_info": {
   "codemirror_mode": {
    "name": "ipython",
    "version": 3
   },
   "file_extension": ".py",
   "mimetype": "text/x-python",
   "name": "python",
   "nbconvert_exporter": "python",
   "pygments_lexer": "ipython3",
   "version": "3.7.11"
  }
 },
 "nbformat": 4,
 "nbformat_minor": 5
}
